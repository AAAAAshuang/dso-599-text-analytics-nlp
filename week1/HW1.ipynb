{
 "cells": [
  {
   "cell_type": "markdown",
   "metadata": {},
   "source": [
    "# Homework 1 (Due 5:30pm PST March 19th, 2019): Naive Bayes and Probability"
   ]
  },
  {
   "cell_type": "markdown",
   "metadata": {},
   "source": [
    "**A. Compute the following probabilities and state what type of probability (marginal, joint, conditional) (4 points):**\n",
    "```python\n",
    "corpus = [(\"I love going to class\", \"ham\"),\n",
    "(\"Class is going well\", \"ham\"),\n",
    "(\"Do you love bargains\", \"spam\"),\n",
    "(\"Act now for bargains\", \"spam\"),\n",
    "(\"I love you\", \"ham\")]\n",
    "```\n",
    "* P(x = love | y = ham)\n",
    "* P(y = spam)\n",
    "* P(x = bargains)\n",
    "* P(y = ham | x = \"You love bargains\")\n",
    "\n",
    "**B. Former In-Class Exercise Word Count (Now Homework 1B) - 6 points**\n",
    "\n",
    "You are a business analyst working for a major US toy retailer:\n",
    "\n",
    "* Part 1: A manager in the marketing department wants to find out the most frequently used words in positive reviews (five stars) and negative reviews (one star) in order to determine who the toys are being bought for (sons, significant others, grandchildren, siblings, self, etc.). He would like your opinion on which customer segments' (son, daughter, granddaugher, grandson, niece, nephew, sibling, significant other, etc.) marketing messaging tends to outperform other segments.\n",
    "\n",
    "* Part 2: One of your product managers suspects that **toys with batteries tend to be significantly lower rated than toys that do not require batteries**. She would like to see some data points confirming or rejecting her hypothesis. \n",
    "\n",
    "Perform the same word count analysis using the reviews received from Amazon to answer your marketing manager's and product manager's question. They are stored in two files, (`poor_amazon_toy_reviews.txt`) and (`good-amazon-toy-reviews.txt`). **Provide only few sentences with your findings and business recommendations for each part (Part A and B.** Make any assumptions you'd like to- this is a fictitious company after all. I just want you to get into the habit of \"finishing\" your analysis: to avoid delivering technical numbers to a non-technical manager.\n",
    "\n",
    "**C. Read \"What is Natural Language Processing? The Business Use Case Explained\" (CIO.com) and Intro to Algorithmic Marketing (pages 179 - 184, 193 - 201)**. Be prepared for a short in-class graded exercise at the beginning of Week 2 on the topics in these readings (read it once, don't read it twice).\n",
    "\n",
    "\n",
    "\n",
    "### **Submit everything as a new notebook, either via Slack direct message to me, or email to me (ychen220@usc.edu). Much of the code should already be written for you!**"
   ]
  },
  {
   "cell_type": "code",
   "execution_count": null,
   "metadata": {},
   "outputs": [],
   "source": []
  }
 ],
 "metadata": {
  "kernelspec": {
   "display_name": "Python 3",
   "language": "python",
   "name": "python3"
  },
  "language_info": {
   "codemirror_mode": {
    "name": "ipython",
    "version": 3
   },
   "file_extension": ".py",
   "mimetype": "text/x-python",
   "name": "python",
   "nbconvert_exporter": "python",
   "pygments_lexer": "ipython3",
   "version": "3.6.4"
  }
 },
 "nbformat": 4,
 "nbformat_minor": 2
}
