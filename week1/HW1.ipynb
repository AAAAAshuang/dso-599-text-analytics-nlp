{
 "cells": [
  {
   "cell_type": "markdown",
   "metadata": {},
   "source": [
    "# Homework 1 (Due 5:30pm PST March 19th, 2019): Naive Bayes and Probability"
   ]
  },
  {
   "cell_type": "markdown",
   "metadata": {},
   "source": [
    "**A. Compute the following probabilities (4 points):**\n",
    "```python\n",
    "corpus = [(\"I love going to class\", \"ham\"),\n",
    "(\"Class is going well\", \"ham\"),\n",
    "(\"Do you love bargains\", \"spam\"),\n",
    "(\"Act now for bargains\", \"spam\"),\n",
    "(\"I love you\", \"ham\")]\n",
    "```\n",
    "* $P(x = love | y = ham)$\n",
    "* $P(y = spam)$\n",
    "* $P(x = bargains)$\n",
    "* $P(y = ham | x = \"You love bargains\")$\n",
    "\n",
    "**B. Build a Naive Bayes model using the Amazon toys product reviews (conditional probability tables). Then, provide the probability of positive versus negative reviews for the following text (6 points):**\n",
    "\n",
    "* \"Awesome deal\"\n",
    "* \"Fake junk\"\n",
    "* \"This was not good\"\n",
    "\n",
    "Provide all source code you wrote in your computation below. I should be able to execute your code to get the same answers as you.\n",
    "\n",
    "**C. Read \"What is Natural Language Processing? The Business Use Case Explained\" (CIO.com) and Intro to Algorithmic Marketing (pages 179 - 184, 193 - 201)**. Be prepared for a short in-class graded exercise at the beginning of Week 2 on the topics in these readings (read it once, don't read it twice)."
   ]
  },
  {
   "cell_type": "code",
   "execution_count": null,
   "metadata": {},
   "outputs": [],
   "source": []
  }
 ],
 "metadata": {
  "kernelspec": {
   "display_name": "Python 3",
   "language": "python",
   "name": "python3"
  },
  "language_info": {
   "codemirror_mode": {
    "name": "ipython",
    "version": 3
   },
   "file_extension": ".py",
   "mimetype": "text/x-python",
   "name": "python",
   "nbconvert_exporter": "python",
   "pygments_lexer": "ipython3",
   "version": "3.6.4"
  }
 },
 "nbformat": 4,
 "nbformat_minor": 2
}
