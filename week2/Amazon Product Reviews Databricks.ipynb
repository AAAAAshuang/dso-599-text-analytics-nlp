{
 "cells": [
  {
   "cell_type": "code",
   "execution_count": null,
   "metadata": {},
   "outputs": [],
   "source": [
    "import io\n",
    "import urllib\n",
    "import gzip\n",
    "\n",
    "# this is not the \"ideal\" way to load data in. Usually, you would \"mount\" the S3 bucket, or Google Cloud Storage to Databricks. However, that requires\n",
    "# IAM (Identity Access Management) roles\n",
    "TARBALL_FULL_URL = \"https://s3.amazonaws.com/amazon-reviews-pds/tsv/amazon_reviews_us_Camera_v1_00.tsv.gz\"\n",
    "response = urllib.request.urlopen(TARBALL_FULL_URL)\n",
    "compressed_file = io.BytesIO(response.read())\n",
    "decompressed_file = gzip.GzipFile(fileobj=compressed_file)\n",
    "camera_reviews = [line.decode(\"UTF-8\") for line in decompressed_file.readlines()]\n",
    "\n",
    "# subset the data so we only get the first quarter million\n",
    "camera_reviews = camera_reviews[:250000]\n",
    "\n",
    "# write it to our cluster's distributed file system\n",
    "dbutils.fs.put(\"/mnt/blob/cameras.tsv\", \"\".join(camera_reviews), True)"
   ]
  },
  {
   "cell_type": "code",
   "execution_count": null,
   "metadata": {},
   "outputs": [],
   "source": [
    "# just get 10,000 random reviews to develop with\n",
    "cameras = spark.sql(\"select * from cameras_tsv limit 10000\")"
   ]
  },
  {
   "cell_type": "code",
   "execution_count": null,
   "metadata": {},
   "outputs": [],
   "source": [
    "from pyspark.sql import functions as F\n",
    "\n",
    "# find the average rating of different camera products\n",
    "selected_columns = [\"product_title\", \"star_rating\"]\n",
    "cameras.select(*selected_columns).groupBy(\"product_title\").agg(F.avg(\"star_rating\"), F.count(\"star_rating\")).sort(F.desc(\"count(star_rating)\")).show()"
   ]
  },
  {
   "cell_type": "code",
   "execution_count": null,
   "metadata": {},
   "outputs": [],
   "source": [
    "# or, if you prefer sql, you can just write it in SQL\n",
    "spark.sql('''\n",
    "        SELECT product_title, AVG(star_rating) AS avg_rating, COUNT(star_rating) AS count \n",
    "        FROM cameras_tsv \n",
    "        GROUP BY product_title\n",
    "        ORDER BY count DESC\n",
    "''').show(5)"
   ]
  },
  {
   "cell_type": "code",
   "execution_count": null,
   "metadata": {},
   "outputs": [],
   "source": [
    "# filter only for reviews that start with I\n",
    "expr = \"^I\\s.*\"\n",
    "cameras.filter(cameras[\"review_body\"].rlike(expr)).select(\"review_body\").show()"
   ]
  },
  {
   "cell_type": "code",
   "execution_count": null,
   "metadata": {},
   "outputs": [],
   "source": [
    "# Generate a very basic word count!\n",
    "from operator import add\n",
    "mapped = cameras.select('review_body').rdd.flatMap(lambda review: review.review_body.split(' ') if review.review_body else ['']).map(lambda word: (word, 1))\n",
    "mapped.reduceByKey(lambda x,y: x + y).sortBy(lambda result: -result[1]).take(100)"
   ]
  }
 ],
 "metadata": {
  "kernelspec": {
   "display_name": "Python 3",
   "language": "python",
   "name": "python3"
  },
  "language_info": {
   "codemirror_mode": {
    "name": "ipython",
    "version": 3
   },
   "file_extension": ".py",
   "mimetype": "text/x-python",
   "name": "python",
   "nbconvert_exporter": "python",
   "pygments_lexer": "ipython3",
   "version": "3.6.4"
  },
  "name": "Amazon Product Reviews",
  "notebookId": 1211084075809806
 },
 "nbformat": 4,
 "nbformat_minor": 1
}
